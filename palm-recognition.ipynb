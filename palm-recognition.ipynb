{
 "cells": [
  {
   "cell_type": "code",
   "execution_count": 1,
   "metadata": {},
   "outputs": [],
   "source": [
    "import os\n",
    "import numpy as np\n",
    "import pandas as pd\n",
    "\n",
    "import matplotlib.pyplot as plt\n",
    "import matplotlib.image as mpimg\n",
    "\n",
    "import time\n",
    "\n",
    "import cv2\n",
    "import imageio\n",
    "import imgaug as ia\n",
    "import imgaug.augmenters as iaa\n",
    "\n",
    "from PIL import Image\n",
    "\n",
    "import tensorflow as tf\n",
    "import keras\n",
    "from keras import models, layers\n",
    "from keras.layers import Input, Conv2D, Lambda, merge, Dense, Flatten,MaxPooling2D\n",
    "from keras.models import Model, Sequential\n",
    "from keras.regularizers import l2\n",
    "from keras import backend as K\n",
    "from keras.optimizers import SGD,Adam\n",
    "from keras.losses import binary_crossentropy\n",
    "from keras.utils import plot_model\n",
    "\n",
    "from tensorflow.keras.callbacks import TensorBoard\n",
    "from keras.callbacks import ModelCheckpoint"
   ]
  },
  {
   "cell_type": "markdown",
   "metadata": {},
   "source": [
    "# Data Augmentation and Pre-Processing"
   ]
  },
  {
   "cell_type": "code",
   "execution_count": 2,
   "metadata": {},
   "outputs": [],
   "source": [
    "def augment(image_folder, image_file):\n",
    "    \n",
    "    '''\n",
    "    Create synthetic images using data augmentation techniques.\n",
    "\n",
    "    Parameters\n",
    "    ----------\n",
    "    image_folder : string\n",
    "        Path of the folder containing the original image.\n",
    "        \n",
    "    image_file : string\n",
    "        Filename of the original image.\n",
    "        \n",
    "    Returns\n",
    "    -------\n",
    "    None.\n",
    "\n",
    "    '''\n",
    "    \n",
    "    path = image_folder + \"/\" + image_file\n",
    "    origin_img = imageio.imread(path)\n",
    "    \n",
    "    aug_img = {}\n",
    "    \n",
    "    aug_img['flipped'] = iaa.Flipud(p=1.0).augment_image(origin_img)\n",
    "    aug_img['rotated_1'] = iaa.Affine(rotate=(-50, 50)).augment_image(origin_img)\n",
    "    aug_img['rotated_2'] = iaa.Affine(rotate=(-50, 50)).augment_image(origin_img)\n",
    "    aug_img['cropped_1'] = iaa.Crop(percent=(0, 0.3)).augment_image(origin_img)\n",
    "    aug_img['cropped_2'] = iaa.Crop(percent=(0, 0.3)).augment_image(origin_img)\n",
    "    aug_img['constrated_1'] = iaa.GammaContrast(gamma=2.0).augment_image(origin_img)\n",
    "    aug_img['constrated_2'] = iaa.GammaContrast(gamma=2.0).augment_image(origin_img)\n",
    "    aug_img['constrated_3'] = iaa.AllChannelsCLAHE(clip_limit=(1, 10)).augment_image(origin_img)\n",
    "\n",
    "    for key in aug_img.keys():\n",
    "        save_path = path.split(\".\")[0] + f'_{key}.jpg'\n",
    "        cv2.imwrite(save_path, aug_img[key])"
   ]
  },
  {
   "cell_type": "code",
   "execution_count": 3,
   "metadata": {},
   "outputs": [],
   "source": [
    "dir_path = 'C:/Users/s1027177/OneDrive - Syngenta/Documents/ML-DL/project/Palm-Recognition/images/'\n",
    "out_path = 'C:/Users/s1027177/OneDrive - Syngenta/Documents/ML-DL/project/Palm-Recognition/processed_images/'\n",
    "model_path = 'C:/Users/s1027177/OneDrive - Syngenta/Documents/ML-DL/project/Palm-Recognition/model/'"
   ]
  },
  {
   "cell_type": "code",
   "execution_count": 5,
   "metadata": {},
   "outputs": [],
   "source": [
    "def preprocess(image_folder, image_file, dim):\n",
    "    \n",
    "    '''\n",
    "    Pre-process an image to convert it into a numpy array.\n",
    "\n",
    "    Parameters\n",
    "    ----------\n",
    "    image_folder : string\n",
    "        Path of the folder containing the image to be processed.\n",
    "        \n",
    "    image_file : string\n",
    "        Filename of the image to be processed.\n",
    "        \n",
    "    dim : integer\n",
    "        Image dimension size. Large enough to capture the details of the palm.\n",
    "        \n",
    "    Returns\n",
    "    -------\n",
    "    numpy.array of an image normalized to a scale of [0,1] as the pixel values range from 0-255.\n",
    "\n",
    "    '''\n",
    "     \n",
    "    path = image_folder + \"/\" + image_file\n",
    "    resize_image = Image.open(path).resize((dim, dim))\n",
    "    resize_image = np.asarray(resize_image)\n",
    "    image = resize_image / 255\n",
    "        \n",
    "    return(image)"
   ]
  },
  {
   "cell_type": "code",
   "execution_count": 6,
   "metadata": {},
   "outputs": [
    {
     "name": "stdout",
     "output_type": "stream",
     "text": [
      "C:/Users/s1027177/OneDrive - Syngenta/Documents/ML-DL/project/Palm-Recognition/images/p1/jacques.jpg\n",
      "C:/Users/s1027177/OneDrive - Syngenta/Documents/ML-DL/project/Palm-Recognition/images/p1/jacques_constrated_1.jpg\n",
      "C:/Users/s1027177/OneDrive - Syngenta/Documents/ML-DL/project/Palm-Recognition/images/p1/jacques_constrated_2.jpg\n",
      "C:/Users/s1027177/OneDrive - Syngenta/Documents/ML-DL/project/Palm-Recognition/images/p1/jacques_constrated_3.jpg\n",
      "C:/Users/s1027177/OneDrive - Syngenta/Documents/ML-DL/project/Palm-Recognition/images/p1/jacques_cropped_1.jpg\n",
      "C:/Users/s1027177/OneDrive - Syngenta/Documents/ML-DL/project/Palm-Recognition/images/p1/jacques_cropped_2.jpg\n",
      "C:/Users/s1027177/OneDrive - Syngenta/Documents/ML-DL/project/Palm-Recognition/images/p1/jacques_flipped.jpg\n",
      "C:/Users/s1027177/OneDrive - Syngenta/Documents/ML-DL/project/Palm-Recognition/images/p1/jacques_rotated_1.jpg\n",
      "C:/Users/s1027177/OneDrive - Syngenta/Documents/ML-DL/project/Palm-Recognition/images/p1/jacques_rotated_2.jpg\n",
      "Save Complete\n",
      "C:/Users/s1027177/OneDrive - Syngenta/Documents/ML-DL/project/Palm-Recognition/images/p2/daisy.jpg\n",
      "C:/Users/s1027177/OneDrive - Syngenta/Documents/ML-DL/project/Palm-Recognition/images/p2/daisy_constrated_1.jpg\n",
      "C:/Users/s1027177/OneDrive - Syngenta/Documents/ML-DL/project/Palm-Recognition/images/p2/daisy_constrated_2.jpg\n",
      "C:/Users/s1027177/OneDrive - Syngenta/Documents/ML-DL/project/Palm-Recognition/images/p2/daisy_constrated_3.jpg\n",
      "C:/Users/s1027177/OneDrive - Syngenta/Documents/ML-DL/project/Palm-Recognition/images/p2/daisy_cropped_1.jpg\n",
      "C:/Users/s1027177/OneDrive - Syngenta/Documents/ML-DL/project/Palm-Recognition/images/p2/daisy_cropped_2.jpg\n",
      "C:/Users/s1027177/OneDrive - Syngenta/Documents/ML-DL/project/Palm-Recognition/images/p2/daisy_flipped.jpg\n",
      "C:/Users/s1027177/OneDrive - Syngenta/Documents/ML-DL/project/Palm-Recognition/images/p2/daisy_rotated_1.jpg\n",
      "C:/Users/s1027177/OneDrive - Syngenta/Documents/ML-DL/project/Palm-Recognition/images/p2/daisy_rotated_2.jpg\n",
      "Save Complete\n",
      "C:/Users/s1027177/OneDrive - Syngenta/Documents/ML-DL/project/Palm-Recognition/images/p3/solene.jpg\n",
      "C:/Users/s1027177/OneDrive - Syngenta/Documents/ML-DL/project/Palm-Recognition/images/p3/solene_constrated_1.jpg\n",
      "C:/Users/s1027177/OneDrive - Syngenta/Documents/ML-DL/project/Palm-Recognition/images/p3/solene_constrated_2.jpg\n",
      "C:/Users/s1027177/OneDrive - Syngenta/Documents/ML-DL/project/Palm-Recognition/images/p3/solene_constrated_3.jpg\n",
      "C:/Users/s1027177/OneDrive - Syngenta/Documents/ML-DL/project/Palm-Recognition/images/p3/solene_cropped_1.jpg\n",
      "C:/Users/s1027177/OneDrive - Syngenta/Documents/ML-DL/project/Palm-Recognition/images/p3/solene_cropped_2.jpg\n",
      "C:/Users/s1027177/OneDrive - Syngenta/Documents/ML-DL/project/Palm-Recognition/images/p3/solene_flipped.jpg\n",
      "C:/Users/s1027177/OneDrive - Syngenta/Documents/ML-DL/project/Palm-Recognition/images/p3/solene_rotated_1.jpg\n",
      "C:/Users/s1027177/OneDrive - Syngenta/Documents/ML-DL/project/Palm-Recognition/images/p3/solene_rotated_2.jpg\n",
      "Save Complete\n"
     ]
    }
   ],
   "source": [
    "# Load images\n",
    "# Get synthetic images once\n",
    "# Pre-process images to convert them into numpy arrays\n",
    "\n",
    "dim = 224\n",
    "list_img_folders = os.listdir(dir_path)\n",
    "\n",
    "images = []\n",
    "for i in range(len(list_img_folders)):\n",
    "    \n",
    "    image_folder = os.path.join(dir_path, list_img_folders[i])\n",
    "    \n",
    "    image_names = os.listdir(image_folder)  \n",
    "    augment(image_folder, image_names[0])  \n",
    "    image_names = os.listdir(image_folder)\n",
    "    \n",
    "    sub_images = []\n",
    "    for image_file in image_names:\n",
    "        \n",
    "        try:\n",
    "            print(image_folder + \"/\" + image_file)\n",
    "            image = preprocess(image_folder, image_file, dim)\n",
    "            sub_images.append(image)\n",
    "            images.append(image)\n",
    "        except:\n",
    "            print(f'Cannot process the file: {image_folder + \"/\" + image_file}')\n",
    "            \n",
    "    sub_images = np.array(sub_images)\n",
    "    np.save( f'{image_folder}/{list_img_folders[i]}_processed.npy', sub_images)\n",
    "    \n",
    "    print(\"Save Complete\")"
   ]
  },
  {
   "cell_type": "code",
   "execution_count": 7,
   "metadata": {},
   "outputs": [],
   "source": [
    "images = np.array(images)"
   ]
  },
  {
   "cell_type": "code",
   "execution_count": 8,
   "metadata": {},
   "outputs": [
    {
     "name": "stdout",
     "output_type": "stream",
     "text": [
      "(729, 224, 224, 3)\n",
      "(729, 224, 224, 3)\n",
      "(729,)\n"
     ]
    }
   ],
   "source": [
    "# Create pairs of images to be fed as input to the Siamese Network\n",
    "samples_1 = []\n",
    "samples_2 = []\n",
    "labels = []\n",
    "\n",
    "for i in range(len(images)):\n",
    "    for j in range(len(images)):\n",
    "        samples_1.append(images[i])\n",
    "        samples_2.append(images[j])\n",
    "        t = i - i%9 +9\n",
    "        if t - 9 <= j < t:\n",
    "            labels.append(1)\n",
    "        else:\n",
    "            labels.append(0)\n",
    "\n",
    "X1 = np.array(samples_1)\n",
    "X2 = np.array(samples_2)\n",
    "Y = np.array(labels)\n",
    "\n",
    "print(X1.shape)\n",
    "print(X2.shape)\n",
    "print(Y.shape)"
   ]
  },
  {
   "cell_type": "markdown",
   "metadata": {},
   "source": [
    "# Siamese network implementation using Keras"
   ]
  },
  {
   "cell_type": "markdown",
   "metadata": {},
   "source": [
    "### References\n",
    "To create the model architecture specific to Siamese Network we found two complementary posts\n",
    "[One Shot Learning with Siamese Networks using Keras](https://towardsdatascience.com/one-shot-learning-with-siamese-networks-using-keras-17f34e75bb3d) and a line by line explanation of how Siamese Networks are implemented using Keras in Python \n",
    "[Siamese Networks](https://towardsdatascience.com/siamese-networks-line-by-line-explanation-for-beginners-55b8be1d2fc6).\n",
    "\n",
    "![siamese_network](siamese_network.png)\n",
    "\n",
    "As it is a similar use case as the one of a fingerprint-recognition system, the parameters are essentially chosen as described in [Fingerprint Recognition using Siamese Network](https://github.com/utsav-195/fingerprint-recognition-using-siamese-network-with-retraining)."
   ]
  },
  {
   "cell_type": "code",
   "execution_count": 10,
   "metadata": {},
   "outputs": [],
   "source": [
    "def get_siamese_model(input_shape, convolution_shape):\n",
    "    \n",
    "    '''\n",
    "        Model architecture\n",
    "    '''\n",
    "    \n",
    "    # Define the tensors for the two input images \n",
    "    input_x1 = Input(input_shape)\n",
    "    input_x2 = Input(input_shape)\n",
    "    \n",
    "    model = models.Sequential([\n",
    "        layers.Reshape(input_shape=input_shape, target_shape=convolution_shape),\n",
    "        layers.Conv2D(64, (10,10), strides=1, activation='relu'),\n",
    "        layers.MaxPooling2D(strides=2),\n",
    "        layers.Conv2D(128, (7,7), strides=1, activation='relu'),\n",
    "        layers.MaxPooling2D(strides=2),\n",
    "        layers.Conv2D(128, (4,4), strides=1, activation='relu'),\n",
    "        layers.MaxPooling2D(strides=2),\n",
    "        layers.Conv2D(256, (4,4), strides=1, activation='relu'),\n",
    "        layers.MaxPooling2D(strides=2),\n",
    "        layers.Flatten(),\n",
    "        layers.Dense(1024, activation='relu'),\n",
    "        layers.Dense(1024, activation='sigmoid')\n",
    "    ])\n",
    "    \n",
    "    # Generate the encodings (feature vectors) for the two images\n",
    "    output_x1 = model(input_x1)\n",
    "    output_x2 = model(input_x2)\n",
    "    \n",
    "    # Add a customized layer to compute the absolute difference between the encodings\n",
    "    distance_euclid = Lambda(lambda tensors:K.abs(tensors[0] - tensors[1]))([output_x1, output_x2])\n",
    "    \n",
    "    # Add a dense layer with a sigmoid unit to generate the similarity score\n",
    "    outputs = layers.Dense(1, activation='sigmoid')(distance_euclid)\n",
    "    \n",
    "    # Connect the inputs with the outputs\n",
    "    siamese_net = Model([input_x1, input_x2], outputs)\n",
    "    \n",
    "    # Return the model\n",
    "    return siamese_net"
   ]
  },
  {
   "cell_type": "code",
   "execution_count": 16,
   "metadata": {},
   "outputs": [],
   "source": [
    "def save_model(model, file_path):\n",
    "    model.save(file_path)\n",
    "\n",
    "def load_model(file_path):\n",
    "    model = models.load_model(file_path)\n",
    "    return(model)"
   ]
  },
  {
   "cell_type": "code",
   "execution_count": 11,
   "metadata": {},
   "outputs": [
    {
     "name": "stdout",
     "output_type": "stream",
     "text": [
      "Model: \"functional_1\"\n",
      "__________________________________________________________________________________________________\n",
      "Layer (type)                    Output Shape         Param #     Connected to                     \n",
      "==================================================================================================\n",
      "input_1 (InputLayer)            [(None, 150528)]     0                                            \n",
      "__________________________________________________________________________________________________\n",
      "input_2 (InputLayer)            [(None, 150528)]     0                                            \n",
      "__________________________________________________________________________________________________\n",
      "sequential (Sequential)         (None, 1024)         28472640    input_1[0][0]                    \n",
      "                                                                 input_2[0][0]                    \n",
      "__________________________________________________________________________________________________\n",
      "lambda (Lambda)                 (None, 1024)         0           sequential[0][0]                 \n",
      "                                                                 sequential[1][0]                 \n",
      "__________________________________________________________________________________________________\n",
      "dense_2 (Dense)                 (None, 1)            1025        lambda[0][0]                     \n",
      "==================================================================================================\n",
      "Total params: 28,473,665\n",
      "Trainable params: 28,473,665\n",
      "Non-trainable params: 0\n",
      "__________________________________________________________________________________________________\n"
     ]
    }
   ],
   "source": [
    "# Compile the model with loss as Binary Cross-Entropy loss and Adam optimizer\n",
    "dim = 224\n",
    "input_shape = ((dim**2)*3, )\n",
    "convolution_shape = (dim, dim, 3)\n",
    "\n",
    "model = get_siamese_model(input_shape, convolution_shape)\n",
    "model.compile(loss='binary_crossentropy', optimizer=Adam(lr = 0.00003))\n",
    "\n",
    "# Give the model parameters\n",
    "model.summary()"
   ]
  },
  {
   "cell_type": "code",
   "execution_count": 12,
   "metadata": {},
   "outputs": [
    {
     "data": {
      "image/png": "[encoded data removed]",
      "text/plain": [
       "<IPython.core.display.Image object>"
      ]
     },
     "execution_count": 12,
     "metadata": {},
     "output_type": "execute_result"
    }
   ],
   "source": [
    "plot_model(model, show_shapes=True, show_layer_names=True)"
   ]
  },
  {
   "cell_type": "markdown",
   "metadata": {},
   "source": [
    "## Training the Model"
   ]
  },
  {
   "cell_type": "code",
   "execution_count": null,
   "metadata": {},
   "outputs": [],
   "source": [
    "def load_train_arrays(dim, out_path):\n",
    "    \n",
    "    '''\n",
    "    Load the saved numpy arrays if not created from previous execution.\n",
    "    \n",
    "    Parameters\n",
    "    ----------\n",
    "    dim : integer\n",
    "        Input size.\n",
    "        \n",
    "    out_path : string\n",
    "        Path where numpy arrays have been saved.\n",
    "        \n",
    "    Returns\n",
    "    -------\n",
    "    X1, X2: numpy.array\n",
    "        Training image pairs.\n",
    "        \n",
    "    Y: numpy.array\n",
    "        Training labels where 1 indicates a pair of images belonging to the same person, 0 otherwise.\n",
    "    \n",
    "    '''\n",
    "    \n",
    "    X1 = np.load(f'{out_path}/x1.npy')\n",
    "    X2 = np.load(f'{out_path}/x2.npy')\n",
    "    Y = np.load(f'{out_path}/y.npy')\n",
    "\n",
    "    return(X1, X2, Y)"
   ]
  },
  {
   "cell_type": "code",
   "execution_count": 13,
   "metadata": {},
   "outputs": [
    {
     "name": "stdout",
     "output_type": "stream",
     "text": [
      "Epoch 1/20\n",
      "12/12 [==============================] - ETA: 0s - loss: 0.6859 \n",
      "Epoch 00001: loss improved from inf to 0.68586, saving model to C:/Users/s1027177/OneDrive - Syngenta/Documents/ML-DL/project/Palm-Recognition/model\\test3_model.h5\n",
      "12/12 [==============================] - 301s 25s/step - loss: 0.6859\n",
      "Epoch 2/20\n",
      "12/12 [==============================] - ETA: 0s - loss: 0.6394 \n",
      "Epoch 00002: loss improved from 0.68586 to 0.63937, saving model to C:/Users/s1027177/OneDrive - Syngenta/Documents/ML-DL/project/Palm-Recognition/model\\test3_model.h5\n",
      "12/12 [==============================] - 313s 26s/step - loss: 0.6394\n",
      "Epoch 3/20\n",
      "12/12 [==============================] - ETA: 0s - loss: 0.5910 \n",
      "Epoch 00003: loss improved from 0.63937 to 0.59100, saving model to C:/Users/s1027177/OneDrive - Syngenta/Documents/ML-DL/project/Palm-Recognition/model\\test3_model.h5\n",
      "12/12 [==============================] - 330s 27s/step - loss: 0.5910\n",
      "Epoch 4/20\n",
      "12/12 [==============================] - ETA: 0s - loss: 0.5459 \n",
      "Epoch 00004: loss improved from 0.59100 to 0.54594, saving model to C:/Users/s1027177/OneDrive - Syngenta/Documents/ML-DL/project/Palm-Recognition/model\\test3_model.h5\n",
      "12/12 [==============================] - 332s 28s/step - loss: 0.5459\n",
      "Epoch 5/20\n",
      "12/12 [==============================] - ETA: 0s - loss: 0.5142 \n",
      "Epoch 00005: loss improved from 0.54594 to 0.51418, saving model to C:/Users/s1027177/OneDrive - Syngenta/Documents/ML-DL/project/Palm-Recognition/model\\test3_model.h5\n",
      "12/12 [==============================] - 337s 28s/step - loss: 0.5142\n",
      "Epoch 6/20\n",
      "12/12 [==============================] - ETA: 0s - loss: 0.4704 \n",
      "Epoch 00006: loss improved from 0.51418 to 0.47040, saving model to C:/Users/s1027177/OneDrive - Syngenta/Documents/ML-DL/project/Palm-Recognition/model\\test3_model.h5\n",
      "12/12 [==============================] - 331s 28s/step - loss: 0.4704\n",
      "Epoch 7/20\n",
      "12/12 [==============================] - ETA: 0s - loss: 0.4205 \n",
      "Epoch 00007: loss improved from 0.47040 to 0.42054, saving model to C:/Users/s1027177/OneDrive - Syngenta/Documents/ML-DL/project/Palm-Recognition/model\\test3_model.h5\n",
      "12/12 [==============================] - 341s 28s/step - loss: 0.4205\n",
      "Epoch 8/20\n",
      "12/12 [==============================] - ETA: 0s - loss: 0.3875 \n",
      "Epoch 00008: loss improved from 0.42054 to 0.38751, saving model to C:/Users/s1027177/OneDrive - Syngenta/Documents/ML-DL/project/Palm-Recognition/model\\test3_model.h5\n",
      "12/12 [==============================] - 342s 28s/step - loss: 0.3875\n",
      "Epoch 9/20\n",
      "12/12 [==============================] - ETA: 0s - loss: 0.3738 \n",
      "Epoch 00009: loss improved from 0.38751 to 0.37378, saving model to C:/Users/s1027177/OneDrive - Syngenta/Documents/ML-DL/project/Palm-Recognition/model\\test3_model.h5\n",
      "12/12 [==============================] - 330s 27s/step - loss: 0.3738\n",
      "Epoch 10/20\n",
      "12/12 [==============================] - ETA: 0s - loss: 0.3450 \n",
      "Epoch 00010: loss improved from 0.37378 to 0.34497, saving model to C:/Users/s1027177/OneDrive - Syngenta/Documents/ML-DL/project/Palm-Recognition/model\\test3_model.h5\n",
      "12/12 [==============================] - 342s 29s/step - loss: 0.3450\n",
      "Epoch 11/20\n",
      "12/12 [==============================] - ETA: 0s - loss: 0.3216 \n",
      "Epoch 00011: loss improved from 0.34497 to 0.32163, saving model to C:/Users/s1027177/OneDrive - Syngenta/Documents/ML-DL/project/Palm-Recognition/model\\test3_model.h5\n",
      "12/12 [==============================] - 335s 28s/step - loss: 0.3216\n",
      "Epoch 12/20\n",
      "12/12 [==============================] - ETA: 0s - loss: 0.2705 \n",
      "Epoch 00012: loss improved from 0.32163 to 0.27054, saving model to C:/Users/s1027177/OneDrive - Syngenta/Documents/ML-DL/project/Palm-Recognition/model\\test3_model.h5\n",
      "12/12 [==============================] - 343s 29s/step - loss: 0.2705\n",
      "Epoch 13/20\n",
      "12/12 [==============================] - ETA: 0s - loss: 0.2324 \n",
      "Epoch 00013: loss improved from 0.27054 to 0.23245, saving model to C:/Users/s1027177/OneDrive - Syngenta/Documents/ML-DL/project/Palm-Recognition/model\\test3_model.h5\n",
      "12/12 [==============================] - 427s 36s/step - loss: 0.2324\n",
      "Epoch 14/20\n",
      "12/12 [==============================] - ETA: 0s - loss: 0.1897 \n",
      "Epoch 00014: loss improved from 0.23245 to 0.18966, saving model to C:/Users/s1027177/OneDrive - Syngenta/Documents/ML-DL/project/Palm-Recognition/model\\test3_model.h5\n",
      "12/12 [==============================] - 432s 36s/step - loss: 0.1897\n",
      "Epoch 15/20\n",
      "12/12 [==============================] - ETA: 0s - loss: 0.1547 \n",
      "Epoch 00015: loss improved from 0.18966 to 0.15475, saving model to C:/Users/s1027177/OneDrive - Syngenta/Documents/ML-DL/project/Palm-Recognition/model\\test3_model.h5\n",
      "12/12 [==============================] - 431s 36s/step - loss: 0.1547\n",
      "Epoch 16/20\n",
      "12/12 [==============================] - ETA: 0s - loss: 0.1326 \n",
      "Epoch 00016: loss improved from 0.15475 to 0.13262, saving model to C:/Users/s1027177/OneDrive - Syngenta/Documents/ML-DL/project/Palm-Recognition/model\\test3_model.h5\n",
      "12/12 [==============================] - 381s 32s/step - loss: 0.1326\n",
      "Epoch 17/20\n",
      "12/12 [==============================] - ETA: 0s - loss: 0.0984 \n",
      "Epoch 00017: loss improved from 0.13262 to 0.09845, saving model to C:/Users/s1027177/OneDrive - Syngenta/Documents/ML-DL/project/Palm-Recognition/model\\test3_model.h5\n",
      "12/12 [==============================] - 328s 27s/step - loss: 0.0984\n",
      "Epoch 18/20\n",
      "12/12 [==============================] - ETA: 0s - loss: 0.0811 \n",
      "Epoch 00018: loss improved from 0.09845 to 0.08106, saving model to C:/Users/s1027177/OneDrive - Syngenta/Documents/ML-DL/project/Palm-Recognition/model\\test3_model.h5\n",
      "12/12 [==============================] - 327s 27s/step - loss: 0.0811\n",
      "Epoch 19/20\n",
      "12/12 [==============================] - ETA: 0s - loss: 0.0705 \n",
      "Epoch 00019: loss improved from 0.08106 to 0.07054, saving model to C:/Users/s1027177/OneDrive - Syngenta/Documents/ML-DL/project/Palm-Recognition/model\\test3_model.h5\n",
      "12/12 [==============================] - 330s 28s/step - loss: 0.0705\n",
      "Epoch 20/20\n",
      "12/12 [==============================] - ETA: 0s - loss: 0.0608 \n",
      "Epoch 00020: loss improved from 0.07054 to 0.06080, saving model to C:/Users/s1027177/OneDrive - Syngenta/Documents/ML-DL/project/Palm-Recognition/model\\test3_model.h5\n",
      "12/12 [==============================] - 334s 28s/step - loss: 0.0608\n"
     ]
    },
    {
     "data": {
      "text/plain": [
       "<tensorflow.python.keras.callbacks.History at 0x23bf972d8b0>"
      ]
     },
     "execution_count": 13,
     "metadata": {},
     "output_type": "execute_result"
    }
   ],
   "source": [
    "# checkpointer to save the best model\n",
    "checkpointer = ModelCheckpoint(filepath= f'{model_path}/test3_model.h5', monitor='loss', verbose=1, save_best_only=True)\n",
    "\n",
    "# Reshape inputs to the required format\n",
    "X1 = X1.reshape((X1.shape[0], dim**2 * 3)).astype(np.float32)\n",
    "X2 = X2.reshape((X2.shape[0], dim**2 * 3)).astype(np.float32)\n",
    "\n",
    "model.fit(\n",
    "    [ X1 , X2 ],\n",
    "    Y,\n",
    "    batch_size = 64,\n",
    "    epochs = 20,\n",
    "    callbacks = checkpointer,\n",
    "    validation_data = None\n",
    "    )"
   ]
  },
  {
   "cell_type": "markdown",
   "metadata": {},
   "source": [
    "## Validating the Model"
   ]
  },
  {
   "cell_type": "code",
   "execution_count": 46,
   "metadata": {},
   "outputs": [],
   "source": [
    "dir_test_path = 'C:/Users/s1027177/OneDrive - Syngenta/Documents/ML-DL/project/Palm-Recognition/test_images'"
   ]
  },
  {
   "cell_type": "code",
   "execution_count": 47,
   "metadata": {},
   "outputs": [
    {
     "name": "stdout",
     "output_type": "stream",
     "text": [
      "(3, 150528)\n"
     ]
    }
   ],
   "source": [
    "# Prepare test images and convert them into numpy arrays\n",
    "# Reshape them to the required format\n",
    "\n",
    "dim = 224\n",
    "list_test_img = os.listdir(dir_test_path)\n",
    "\n",
    "test_images = []\n",
    "for image_file in list_test_img:\n",
    "    test_image = preprocess(dir_test_path, image_file, dim)\n",
    "    test_images.append(test_image)\n",
    "\n",
    "test_images = np.array(test_images)\n",
    "test_images = test_images.reshape(test_images.shape[0], dim**2 * 3).astype(np.float32)\n",
    "print(test_images.shape)"
   ]
  },
  {
   "cell_type": "code",
   "execution_count": 48,
   "metadata": {},
   "outputs": [],
   "source": [
    "# Load class numpy arrays\n",
    "# Reshape them to the required format\n",
    "\n",
    "samples = {}\n",
    "\n",
    "list_img_folders = os.listdir(dir_path)\n",
    "\n",
    "images = []\n",
    "for i in range(len(list_img_folders)):\n",
    "    class_name = list_img_folders[i]\n",
    "    image_names = os.listdir(dir_path + class_name + \"/\") \n",
    "    f = [name for name in image_names if '.npy' in name]\n",
    "    class_images = np.load('{}{}/{}'.format(dir_path, class_name, f[0]))\n",
    "    class_images = np.array(class_images)\n",
    "    samples[class_name] = class_images.reshape((class_images.shape[0], dim**2 * 3)).astype(np.float32)"
   ]
  },
  {
   "cell_type": "code",
   "execution_count": null,
   "metadata": {},
   "outputs": [],
   "source": [
    "# model = load_model('{}/best_model.h5'.format(model_path))"
   ]
  },
  {
   "cell_type": "code",
   "execution_count": 50,
   "metadata": {},
   "outputs": [
    {
     "name": "stdout",
     "output_type": "stream",
     "text": [
      "IMAGE p1.jpg is p1 with confidence of 0.7141196727752686\n",
      "IMAGE p2.jpg is p2 with confidence of 0.5824065208435059\n",
      "IMAGE p3.jpg is p3 with confidence of 0.9668285846710205\n"
     ]
    }
   ],
   "source": [
    "# setting a threshold of 0.9 for prediction confidence\n",
    "i = 0\n",
    "threshold = 0.5\n",
    "\n",
    "for image in test_images:\n",
    "    image = image.reshape((1, -1))\n",
    "    for class_name in os.listdir(dir_path):\n",
    "        for sample in samples[class_name][:2]:\n",
    "            sample = sample.reshape((1 ,-1))\n",
    "            prediction_score = model.predict([image, sample])[0]\n",
    "            if prediction_score > threshold:\n",
    "                print( 'IMAGE {} is {} with confidence of {}'.format(list_test_img[i], class_name, prediction_score[0]))\n",
    "                break\n",
    "        if prediction_score > threshold:\n",
    "            break\n",
    "    i += 1"
   ]
  }
 ],
 "metadata": {
  "kernelspec": {
   "display_name": "Python 3",
   "language": "python",
   "name": "python3"
  },
  "language_info": {
   "codemirror_mode": {
    "name": "ipython",
    "version": 3
   },
   "file_extension": ".py",
   "mimetype": "text/x-python",
   "name": "python",
   "nbconvert_exporter": "python",
   "pygments_lexer": "ipython3",
   "version": "3.8.3"
  }
 },
 "nbformat": 4,
 "nbformat_minor": 4
}
